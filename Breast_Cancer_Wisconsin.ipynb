{
 "cells": [
  {
   "cell_type": "markdown",
   "id": "f9d82322",
   "metadata": {},
   "source": [
    "# Breast Cancer Homework"
   ]
  },
  {
   "cell_type": "markdown",
   "id": "232bd552",
   "metadata": {},
   "source": [
    "### Giulio Scarpa - matricola: 995914"
   ]
  },
  {
   "cell_type": "code",
   "execution_count": 1,
   "id": "35255c5e",
   "metadata": {},
   "outputs": [],
   "source": [
    "import pandas as pd\n",
    "import numpy as np\n",
    "import seaborn as sns\n",
    "import matplotlib.pyplot as plt\n",
    "from sklearn.model_selection import train_test_split\n",
    "from scipy.stats import norm, zscore\n",
    "from sklearn.discriminant_analysis import LinearDiscriminantAnalysis as LDA\n",
    "from sklearn.pipeline import Pipeline\n",
    "from sklearn.preprocessing import PolynomialFeatures\n",
    "from sklearn.model_selection import GridSearchCV\n",
    "from sklearn.metrics import make_scorer\n",
    "from sklearn.metrics import accuracy_score\n",
    "from sklearn.metrics import recall_score\n",
    "from sklearn.discriminant_analysis import QuadraticDiscriminantAnalysis as QDA\n",
    "from sklearn.neighbors import KNeighborsClassifier\n",
    "from sklearn.linear_model import LogisticRegression           \n",
    "from sklearn.svm import SVC\n",
    "from sklearn.model_selection import cross_val_score"
   ]
  },
  {
   "cell_type": "code",
   "execution_count": 2,
   "id": "b08248b2",
   "metadata": {},
   "outputs": [],
   "source": [
    "def accuracy(y_pred, y_true):\n",
    "    return (y_pred == y_true).mean()"
   ]
  },
  {
   "cell_type": "code",
   "execution_count": 3,
   "id": "56fb9f1c",
   "metadata": {},
   "outputs": [],
   "source": [
    "def show_results(cv, X_test, params, prefix=''):\n",
    "    prefix = ' '+prefix    \n",
    "    results = pd.DataFrame(cv.cv_results_)\n",
    "   \n",
    "    plt.plot(results[params], results['mean_test_score'], label=prefix)\n",
    "\n",
    "   \n",
    "    best_idx = np.argmax(results['mean_test_score'])\n",
    "    \n",
    "    plt.plot(results[params][best_idx],results['mean_test_score'][best_idx],marker='X')\n",
    "    plt.legend()\n",
    "\n",
    "    print(prefix, f\"(best {results[params][best_idx]}) CV sensitivity:\",  cv.best_score_)\n",
    "    print(prefix, f\"(best {results[params][best_idx]}) Test sensitivity:\", recall_score(y_test, cv.best_estimator_.predict(X_test)))"
   ]
  },
  {
   "cell_type": "markdown",
   "id": "f1e55f60",
   "metadata": {},
   "source": [
    "# Data Preparation"
   ]
  },
  {
   "cell_type": "code",
   "execution_count": 4,
   "id": "cf5a2d68",
   "metadata": {},
   "outputs": [],
   "source": [
    "df = pd.read_csv(\"breast-cancer-wisconsin.data\")"
   ]
  },
  {
   "cell_type": "markdown",
   "id": "c1689f6a",
   "metadata": {},
   "source": [
    "##### Adding header with feature name"
   ]
  },
  {
   "cell_type": "code",
   "execution_count": 5,
   "id": "c2dbc796",
   "metadata": {},
   "outputs": [],
   "source": [
    "df.to_csv(\"breast-cancer-wisconsin.data\", header=['ID','Thickness','U_Cell_Size','U_Cell_Shape','Marginal_Adhesion','S_E_Cell_Size',\n",
    "                                       'Bare_Nuclei','Bland_Chromatin','Normal_Nucleoli','Mitoses','Class'], index=False)"
   ]
  },
  {
   "cell_type": "code",
   "execution_count": 6,
   "id": "1faf81eb",
   "metadata": {},
   "outputs": [
    {
     "data": {
      "text/html": [
       "<div>\n",
       "<style scoped>\n",
       "    .dataframe tbody tr th:only-of-type {\n",
       "        vertical-align: middle;\n",
       "    }\n",
       "\n",
       "    .dataframe tbody tr th {\n",
       "        vertical-align: top;\n",
       "    }\n",
       "\n",
       "    .dataframe thead th {\n",
       "        text-align: right;\n",
       "    }\n",
       "</style>\n",
       "<table border=\"1\" class=\"dataframe\">\n",
       "  <thead>\n",
       "    <tr style=\"text-align: right;\">\n",
       "      <th></th>\n",
       "      <th>ID</th>\n",
       "      <th>Thickness</th>\n",
       "      <th>U_Cell_Size</th>\n",
       "      <th>U_Cell_Shape</th>\n",
       "      <th>Marginal_Adhesion</th>\n",
       "      <th>S_E_Cell_Size</th>\n",
       "      <th>Bare_Nuclei</th>\n",
       "      <th>Bland_Chromatin</th>\n",
       "      <th>Normal_Nucleoli</th>\n",
       "      <th>Mitoses</th>\n",
       "      <th>Class</th>\n",
       "    </tr>\n",
       "  </thead>\n",
       "  <tbody>\n",
       "    <tr>\n",
       "      <th>0</th>\n",
       "      <td>1000025</td>\n",
       "      <td>5</td>\n",
       "      <td>1</td>\n",
       "      <td>1</td>\n",
       "      <td>1</td>\n",
       "      <td>2</td>\n",
       "      <td>1</td>\n",
       "      <td>3</td>\n",
       "      <td>1</td>\n",
       "      <td>1</td>\n",
       "      <td>2</td>\n",
       "    </tr>\n",
       "    <tr>\n",
       "      <th>1</th>\n",
       "      <td>1002945</td>\n",
       "      <td>5</td>\n",
       "      <td>4</td>\n",
       "      <td>4</td>\n",
       "      <td>5</td>\n",
       "      <td>7</td>\n",
       "      <td>10</td>\n",
       "      <td>3</td>\n",
       "      <td>2</td>\n",
       "      <td>1</td>\n",
       "      <td>2</td>\n",
       "    </tr>\n",
       "    <tr>\n",
       "      <th>2</th>\n",
       "      <td>1015425</td>\n",
       "      <td>3</td>\n",
       "      <td>1</td>\n",
       "      <td>1</td>\n",
       "      <td>1</td>\n",
       "      <td>2</td>\n",
       "      <td>2</td>\n",
       "      <td>3</td>\n",
       "      <td>1</td>\n",
       "      <td>1</td>\n",
       "      <td>2</td>\n",
       "    </tr>\n",
       "    <tr>\n",
       "      <th>3</th>\n",
       "      <td>1016277</td>\n",
       "      <td>6</td>\n",
       "      <td>8</td>\n",
       "      <td>8</td>\n",
       "      <td>1</td>\n",
       "      <td>3</td>\n",
       "      <td>4</td>\n",
       "      <td>3</td>\n",
       "      <td>7</td>\n",
       "      <td>1</td>\n",
       "      <td>2</td>\n",
       "    </tr>\n",
       "    <tr>\n",
       "      <th>4</th>\n",
       "      <td>1017023</td>\n",
       "      <td>4</td>\n",
       "      <td>1</td>\n",
       "      <td>1</td>\n",
       "      <td>3</td>\n",
       "      <td>2</td>\n",
       "      <td>1</td>\n",
       "      <td>3</td>\n",
       "      <td>1</td>\n",
       "      <td>1</td>\n",
       "      <td>2</td>\n",
       "    </tr>\n",
       "    <tr>\n",
       "      <th>...</th>\n",
       "      <td>...</td>\n",
       "      <td>...</td>\n",
       "      <td>...</td>\n",
       "      <td>...</td>\n",
       "      <td>...</td>\n",
       "      <td>...</td>\n",
       "      <td>...</td>\n",
       "      <td>...</td>\n",
       "      <td>...</td>\n",
       "      <td>...</td>\n",
       "      <td>...</td>\n",
       "    </tr>\n",
       "    <tr>\n",
       "      <th>694</th>\n",
       "      <td>776715</td>\n",
       "      <td>3</td>\n",
       "      <td>1</td>\n",
       "      <td>1</td>\n",
       "      <td>1</td>\n",
       "      <td>3</td>\n",
       "      <td>2</td>\n",
       "      <td>1</td>\n",
       "      <td>1</td>\n",
       "      <td>1</td>\n",
       "      <td>2</td>\n",
       "    </tr>\n",
       "    <tr>\n",
       "      <th>695</th>\n",
       "      <td>841769</td>\n",
       "      <td>2</td>\n",
       "      <td>1</td>\n",
       "      <td>1</td>\n",
       "      <td>1</td>\n",
       "      <td>2</td>\n",
       "      <td>1</td>\n",
       "      <td>1</td>\n",
       "      <td>1</td>\n",
       "      <td>1</td>\n",
       "      <td>2</td>\n",
       "    </tr>\n",
       "    <tr>\n",
       "      <th>696</th>\n",
       "      <td>888820</td>\n",
       "      <td>5</td>\n",
       "      <td>10</td>\n",
       "      <td>10</td>\n",
       "      <td>3</td>\n",
       "      <td>7</td>\n",
       "      <td>3</td>\n",
       "      <td>8</td>\n",
       "      <td>10</td>\n",
       "      <td>2</td>\n",
       "      <td>4</td>\n",
       "    </tr>\n",
       "    <tr>\n",
       "      <th>697</th>\n",
       "      <td>897471</td>\n",
       "      <td>4</td>\n",
       "      <td>8</td>\n",
       "      <td>6</td>\n",
       "      <td>4</td>\n",
       "      <td>3</td>\n",
       "      <td>4</td>\n",
       "      <td>10</td>\n",
       "      <td>6</td>\n",
       "      <td>1</td>\n",
       "      <td>4</td>\n",
       "    </tr>\n",
       "    <tr>\n",
       "      <th>698</th>\n",
       "      <td>897471</td>\n",
       "      <td>4</td>\n",
       "      <td>8</td>\n",
       "      <td>8</td>\n",
       "      <td>5</td>\n",
       "      <td>4</td>\n",
       "      <td>5</td>\n",
       "      <td>10</td>\n",
       "      <td>4</td>\n",
       "      <td>1</td>\n",
       "      <td>4</td>\n",
       "    </tr>\n",
       "  </tbody>\n",
       "</table>\n",
       "<p>699 rows × 11 columns</p>\n",
       "</div>"
      ],
      "text/plain": [
       "          ID  Thickness  U_Cell_Size  U_Cell_Shape  Marginal_Adhesion  \\\n",
       "0    1000025          5            1             1                  1   \n",
       "1    1002945          5            4             4                  5   \n",
       "2    1015425          3            1             1                  1   \n",
       "3    1016277          6            8             8                  1   \n",
       "4    1017023          4            1             1                  3   \n",
       "..       ...        ...          ...           ...                ...   \n",
       "694   776715          3            1             1                  1   \n",
       "695   841769          2            1             1                  1   \n",
       "696   888820          5           10            10                  3   \n",
       "697   897471          4            8             6                  4   \n",
       "698   897471          4            8             8                  5   \n",
       "\n",
       "     S_E_Cell_Size Bare_Nuclei  Bland_Chromatin  Normal_Nucleoli  Mitoses  \\\n",
       "0                2           1                3                1        1   \n",
       "1                7          10                3                2        1   \n",
       "2                2           2                3                1        1   \n",
       "3                3           4                3                7        1   \n",
       "4                2           1                3                1        1   \n",
       "..             ...         ...              ...              ...      ...   \n",
       "694              3           2                1                1        1   \n",
       "695              2           1                1                1        1   \n",
       "696              7           3                8               10        2   \n",
       "697              3           4               10                6        1   \n",
       "698              4           5               10                4        1   \n",
       "\n",
       "     Class  \n",
       "0        2  \n",
       "1        2  \n",
       "2        2  \n",
       "3        2  \n",
       "4        2  \n",
       "..     ...  \n",
       "694      2  \n",
       "695      2  \n",
       "696      4  \n",
       "697      4  \n",
       "698      4  \n",
       "\n",
       "[699 rows x 11 columns]"
      ]
     },
     "execution_count": 6,
     "metadata": {},
     "output_type": "execute_result"
    }
   ],
   "source": [
    "df"
   ]
  },
  {
   "cell_type": "code",
   "execution_count": 7,
   "id": "81b011ba",
   "metadata": {},
   "outputs": [],
   "source": [
    "df = df.replace(['?'],np.nan) # replacing incorrect values"
   ]
  },
  {
   "cell_type": "code",
   "execution_count": 8,
   "id": "bbb43afb",
   "metadata": {},
   "outputs": [
    {
     "data": {
      "text/plain": [
       "16"
      ]
     },
     "execution_count": 8,
     "metadata": {},
     "output_type": "execute_result"
    }
   ],
   "source": [
    "df.isna().sum().sum()"
   ]
  },
  {
   "cell_type": "code",
   "execution_count": 9,
   "id": "9e5d5c93",
   "metadata": {},
   "outputs": [],
   "source": [
    "df = df.dropna() # removing rows with NULL values"
   ]
  },
  {
   "cell_type": "code",
   "execution_count": 10,
   "id": "2c6fb025",
   "metadata": {},
   "outputs": [
    {
     "data": {
      "text/html": [
       "<div>\n",
       "<style scoped>\n",
       "    .dataframe tbody tr th:only-of-type {\n",
       "        vertical-align: middle;\n",
       "    }\n",
       "\n",
       "    .dataframe tbody tr th {\n",
       "        vertical-align: top;\n",
       "    }\n",
       "\n",
       "    .dataframe thead th {\n",
       "        text-align: right;\n",
       "    }\n",
       "</style>\n",
       "<table border=\"1\" class=\"dataframe\">\n",
       "  <thead>\n",
       "    <tr style=\"text-align: right;\">\n",
       "      <th></th>\n",
       "      <th>Data Type</th>\n",
       "    </tr>\n",
       "  </thead>\n",
       "  <tbody>\n",
       "    <tr>\n",
       "      <th>ID</th>\n",
       "      <td>int64</td>\n",
       "    </tr>\n",
       "    <tr>\n",
       "      <th>Thickness</th>\n",
       "      <td>int64</td>\n",
       "    </tr>\n",
       "    <tr>\n",
       "      <th>U_Cell_Size</th>\n",
       "      <td>int64</td>\n",
       "    </tr>\n",
       "    <tr>\n",
       "      <th>U_Cell_Shape</th>\n",
       "      <td>int64</td>\n",
       "    </tr>\n",
       "    <tr>\n",
       "      <th>Marginal_Adhesion</th>\n",
       "      <td>int64</td>\n",
       "    </tr>\n",
       "    <tr>\n",
       "      <th>S_E_Cell_Size</th>\n",
       "      <td>int64</td>\n",
       "    </tr>\n",
       "    <tr>\n",
       "      <th>Bare_Nuclei</th>\n",
       "      <td>object</td>\n",
       "    </tr>\n",
       "    <tr>\n",
       "      <th>Bland_Chromatin</th>\n",
       "      <td>int64</td>\n",
       "    </tr>\n",
       "    <tr>\n",
       "      <th>Normal_Nucleoli</th>\n",
       "      <td>int64</td>\n",
       "    </tr>\n",
       "    <tr>\n",
       "      <th>Mitoses</th>\n",
       "      <td>int64</td>\n",
       "    </tr>\n",
       "    <tr>\n",
       "      <th>Class</th>\n",
       "      <td>int64</td>\n",
       "    </tr>\n",
       "  </tbody>\n",
       "</table>\n",
       "</div>"
      ],
      "text/plain": [
       "                  Data Type\n",
       "ID                    int64\n",
       "Thickness             int64\n",
       "U_Cell_Size           int64\n",
       "U_Cell_Shape          int64\n",
       "Marginal_Adhesion     int64\n",
       "S_E_Cell_Size         int64\n",
       "Bare_Nuclei          object\n",
       "Bland_Chromatin       int64\n",
       "Normal_Nucleoli       int64\n",
       "Mitoses               int64\n",
       "Class                 int64"
      ]
     },
     "execution_count": 10,
     "metadata": {},
     "output_type": "execute_result"
    }
   ],
   "source": [
    "pd.DataFrame(df.dtypes, columns = [\"Data Type\"]) # checking feature data type"
   ]
  },
  {
   "cell_type": "code",
   "execution_count": 11,
   "id": "36f88902",
   "metadata": {},
   "outputs": [],
   "source": [
    "df['Bare_Nuclei'] = df['Bare_Nuclei'].astype('int64') # changing 'Bare_Nuclei' datatype to'int64'"
   ]
  },
  {
   "cell_type": "code",
   "execution_count": 12,
   "id": "7404690b",
   "metadata": {},
   "outputs": [],
   "source": [
    "df['Class'] = df['Class'].replace({4: 1.0, 2:0.0}) # modifing 'Class' values to 0/1"
   ]
  },
  {
   "cell_type": "code",
   "execution_count": 13,
   "id": "f2b583fd",
   "metadata": {},
   "outputs": [],
   "source": [
    "df = df.drop('ID', axis = 1) # dropping 'ID' column (it's pointless for my task)"
   ]
  },
  {
   "cell_type": "markdown",
   "id": "c6042ae8",
   "metadata": {},
   "source": [
    "#### Using a correlation matrix help to find statistical association between the varibales inside the dataset, in this case the strongest correlation we can find is between cell size and cell shape"
   ]
  },
  {
   "cell_type": "code",
   "execution_count": 14,
   "id": "31434f40",
   "metadata": {},
   "outputs": [
    {
     "name": "stdout",
     "output_type": "stream",
     "text": [
      "[0.71478993 0.82080144 0.82189095 0.70629414 0.69095816 0.82269587\n",
      " 0.75822755 0.71867719 0.42344792 1.        ]\n"
     ]
    },
    {
     "data": {
      "text/plain": [
       "<AxesSubplot:>"
      ]
     },
     "execution_count": 14,
     "metadata": {},
     "output_type": "execute_result"
    },
    {
     "data": {
      "image/png": "[encoded data removed]",
      "text/plain": [
       "<Figure size 432x288 with 2 Axes>"
      ]
     },
     "metadata": {
      "needs_background": "light"
     },
     "output_type": "display_data"
    }
   ],
   "source": [
    "print(df.corr().to_numpy()[:,-1])\n",
    "sns.heatmap(df.corr())"
   ]
  },
  {
   "cell_type": "markdown",
   "id": "0907a04c",
   "metadata": {},
   "source": [
    "##### Looking to the plot I noticed that all variables have the same scale so it makes pointless to normilize the data, another thing to point out is the unbalance of the dataset, as we can see by the distributions below"
   ]
  },
  {
   "cell_type": "code",
   "execution_count": 15,
   "id": "8ea9b6ad",
   "metadata": {},
   "outputs": [
    {
     "data": {
      "text/plain": [
       "<function matplotlib.pyplot.show(close=None, block=None)>"
      ]
     },
     "execution_count": 15,
     "metadata": {},
     "output_type": "execute_result"
    },
    {
     "data": {
      "image/png": "[encoded data removed]",
      "text/plain": [
       "<Figure size 1080x720 with 12 Axes>"
      ]
     },
     "metadata": {
      "needs_background": "light"
     },
     "output_type": "display_data"
    }
   ],
   "source": [
    "df.hist(bins=50, figsize=(15,10), ec = 'w')\n",
    "plt.show"
   ]
  },
  {
   "cell_type": "code",
   "execution_count": 16,
   "id": "3e041aca",
   "metadata": {},
   "outputs": [],
   "source": [
    "X = df.drop(\"Class\", axis = 1)    # select all other feature except \"Class\" for training\n",
    "y = df['Class'].to_numpy()"
   ]
  },
  {
   "cell_type": "markdown",
   "id": "44d0cdef",
   "metadata": {},
   "source": [
    "# Models for Classification"
   ]
  },
  {
   "cell_type": "markdown",
   "id": "ffa99358",
   "metadata": {},
   "source": [
    "#### Before start with the model evaluation I decide for this task to use as evaluation score the sensitivity, not the accuracy, because being this dataset about medical data, I want in my models the prioritization of the sensitivity over the accuracy in order to minimize the probability to have patients classified as false negative. In this way a patient classified as false positive will be subject to further analysis, but a patient classified as false negative will be discarded with all the consequences for her/his health"
   ]
  },
  {
   "cell_type": "code",
   "execution_count": 17,
   "id": "00771e58",
   "metadata": {},
   "outputs": [],
   "source": [
    "split_seed = 42\n",
    "split_test_size = 0.3 # fixind the size to 30% data to the test set"
   ]
  },
  {
   "cell_type": "code",
   "execution_count": 18,
   "id": "335022af",
   "metadata": {},
   "outputs": [],
   "source": [
    "X_train, X_test, y_train, y_test = train_test_split(X, y,\n",
    "                                                    test_size=split_test_size, \n",
    "                                                    random_state=split_seed,\n",
    "                                                    stratify = y)"
   ]
  },
  {
   "cell_type": "markdown",
   "id": "5b2a4f84",
   "metadata": {},
   "source": [
    "## Logistic Regression"
   ]
  },
  {
   "cell_type": "code",
   "execution_count": 19,
   "id": "af65f2b3",
   "metadata": {},
   "outputs": [
    {
     "name": "stdout",
     "output_type": "stream",
     "text": [
      "Train sensitivity: 0.9640718562874252\n",
      "Test sensitivity: 0.9444444444444444\n"
     ]
    }
   ],
   "source": [
    "model = LogisticRegression(solver='newton-cg', penalty='none')\n",
    "model.fit(X_train, y_train)                               \n",
    "y_predict = model.predict(X_train)                        \n",
    "\n",
    "print(\"Train sensitivity:\", recall_score(y_train, model.predict(X_train)))\n",
    "print(\"Test sensitivity:\", recall_score(y_test, model.predict(X_test)))"
   ]
  },
  {
   "cell_type": "markdown",
   "id": "15315ad4",
   "metadata": {},
   "source": [
    "## Linear Discriminant Analysis"
   ]
  },
  {
   "cell_type": "code",
   "execution_count": 20,
   "id": "a5a8fa08",
   "metadata": {},
   "outputs": [
    {
     "name": "stdout",
     "output_type": "stream",
     "text": [
      "Train sensitivity: 0.9341317365269461\n",
      "Test sensitivity: 0.8888888888888888\n"
     ]
    }
   ],
   "source": [
    "model = LDA(store_covariance=True)\n",
    "model = model.fit(X_train, y_train)\n",
    "\n",
    "print(\"Train sensitivity:\", recall_score(y_train, model.predict(X_train)))\n",
    "print(\"Test sensitivity:\", recall_score(y_test, model.predict(X_test)))"
   ]
  },
  {
   "cell_type": "markdown",
   "id": "05f20b82",
   "metadata": {},
   "source": [
    "#### Here I tested LDA with different degree polynomial to see which was the best degree and it appeard to be the second, it means that data are not linearly separable"
   ]
  },
  {
   "cell_type": "code",
   "execution_count": 21,
   "id": "fd804ebc",
   "metadata": {},
   "outputs": [
    {
     "name": "stdout",
     "output_type": "stream",
     "text": [
      "  (best 2) CV sensitivity: 0.9283088235294118\n",
      "  (best 2) Test sensitivity: 0.9305555555555556\n",
      "None\n"
     ]
    },
    {
     "data": {
      "image/png": "[encoded data removed]",
      "text/plain": [
       "<Figure size 432x288 with 1 Axes>"
      ]
     },
     "metadata": {
      "needs_background": "light"
     },
     "output_type": "display_data"
    }
   ],
   "source": [
    "#polynomial\n",
    "model = Pipeline([\n",
    "    ('poly', PolynomialFeatures()),\n",
    "    ('lda', LDA(store_covariance=True))])\n",
    "model = model.fit(X_train, y_train)\n",
    "\n",
    "params = {'poly__degree': range(1, 6)}\n",
    "cv = GridSearchCV(model, params, refit=True, cv=10, \n",
    "                  scoring=make_scorer(recall_score))\n",
    "cv.fit(X_train, y_train)\n",
    "cv.best_params_\n",
    "cv.best_score_\n",
    "print(show_results(cv, X_test, 'param_poly__degree'))"
   ]
  },
  {
   "cell_type": "code",
   "execution_count": 22,
   "id": "1a3f48fc",
   "metadata": {},
   "outputs": [
    {
     "data": {
      "text/html": [
       "<div>\n",
       "<style scoped>\n",
       "    .dataframe tbody tr th:only-of-type {\n",
       "        vertical-align: middle;\n",
       "    }\n",
       "\n",
       "    .dataframe tbody tr th {\n",
       "        vertical-align: top;\n",
       "    }\n",
       "\n",
       "    .dataframe thead th {\n",
       "        text-align: right;\n",
       "    }\n",
       "</style>\n",
       "<table border=\"1\" class=\"dataframe\">\n",
       "  <thead>\n",
       "    <tr style=\"text-align: right;\">\n",
       "      <th></th>\n",
       "      <th>mean_fit_time</th>\n",
       "      <th>std_fit_time</th>\n",
       "      <th>mean_score_time</th>\n",
       "      <th>std_score_time</th>\n",
       "      <th>param_poly__degree</th>\n",
       "      <th>params</th>\n",
       "      <th>split0_test_score</th>\n",
       "      <th>split1_test_score</th>\n",
       "      <th>split2_test_score</th>\n",
       "      <th>split3_test_score</th>\n",
       "      <th>split4_test_score</th>\n",
       "      <th>split5_test_score</th>\n",
       "      <th>split6_test_score</th>\n",
       "      <th>split7_test_score</th>\n",
       "      <th>split8_test_score</th>\n",
       "      <th>split9_test_score</th>\n",
       "      <th>mean_test_score</th>\n",
       "      <th>std_test_score</th>\n",
       "      <th>rank_test_score</th>\n",
       "    </tr>\n",
       "  </thead>\n",
       "  <tbody>\n",
       "    <tr>\n",
       "      <th>0</th>\n",
       "      <td>0.008634</td>\n",
       "      <td>0.001071</td>\n",
       "      <td>0.004200</td>\n",
       "      <td>0.000601</td>\n",
       "      <td>1</td>\n",
       "      <td>{'poly__degree': 1}</td>\n",
       "      <td>0.9375</td>\n",
       "      <td>0.882353</td>\n",
       "      <td>0.823529</td>\n",
       "      <td>1.000000</td>\n",
       "      <td>0.882353</td>\n",
       "      <td>0.941176</td>\n",
       "      <td>0.941176</td>\n",
       "      <td>0.941176</td>\n",
       "      <td>1.0000</td>\n",
       "      <td>0.8750</td>\n",
       "      <td>0.922426</td>\n",
       "      <td>0.053441</td>\n",
       "      <td>2</td>\n",
       "    </tr>\n",
       "    <tr>\n",
       "      <th>1</th>\n",
       "      <td>0.014298</td>\n",
       "      <td>0.000780</td>\n",
       "      <td>0.004900</td>\n",
       "      <td>0.000537</td>\n",
       "      <td>2</td>\n",
       "      <td>{'poly__degree': 2}</td>\n",
       "      <td>0.9375</td>\n",
       "      <td>0.882353</td>\n",
       "      <td>0.882353</td>\n",
       "      <td>1.000000</td>\n",
       "      <td>0.941176</td>\n",
       "      <td>0.941176</td>\n",
       "      <td>0.882353</td>\n",
       "      <td>0.941176</td>\n",
       "      <td>1.0000</td>\n",
       "      <td>0.8750</td>\n",
       "      <td>0.928309</td>\n",
       "      <td>0.044764</td>\n",
       "      <td>1</td>\n",
       "    </tr>\n",
       "    <tr>\n",
       "      <th>2</th>\n",
       "      <td>0.051680</td>\n",
       "      <td>0.001981</td>\n",
       "      <td>0.005354</td>\n",
       "      <td>0.001100</td>\n",
       "      <td>3</td>\n",
       "      <td>{'poly__degree': 3}</td>\n",
       "      <td>0.6875</td>\n",
       "      <td>0.411765</td>\n",
       "      <td>0.470588</td>\n",
       "      <td>0.647059</td>\n",
       "      <td>0.588235</td>\n",
       "      <td>0.705882</td>\n",
       "      <td>0.764706</td>\n",
       "      <td>0.529412</td>\n",
       "      <td>0.6875</td>\n",
       "      <td>0.5625</td>\n",
       "      <td>0.605515</td>\n",
       "      <td>0.106897</td>\n",
       "      <td>4</td>\n",
       "    </tr>\n",
       "    <tr>\n",
       "      <th>3</th>\n",
       "      <td>0.179068</td>\n",
       "      <td>0.008168</td>\n",
       "      <td>0.006150</td>\n",
       "      <td>0.003674</td>\n",
       "      <td>4</td>\n",
       "      <td>{'poly__degree': 4}</td>\n",
       "      <td>0.6875</td>\n",
       "      <td>0.647059</td>\n",
       "      <td>0.705882</td>\n",
       "      <td>0.588235</td>\n",
       "      <td>0.588235</td>\n",
       "      <td>0.529412</td>\n",
       "      <td>0.647059</td>\n",
       "      <td>0.764706</td>\n",
       "      <td>0.6875</td>\n",
       "      <td>0.6250</td>\n",
       "      <td>0.647059</td>\n",
       "      <td>0.064668</td>\n",
       "      <td>3</td>\n",
       "    </tr>\n",
       "    <tr>\n",
       "      <th>4</th>\n",
       "      <td>0.647664</td>\n",
       "      <td>0.018712</td>\n",
       "      <td>0.005051</td>\n",
       "      <td>0.000474</td>\n",
       "      <td>5</td>\n",
       "      <td>{'poly__degree': 5}</td>\n",
       "      <td>0.2500</td>\n",
       "      <td>0.588235</td>\n",
       "      <td>0.764706</td>\n",
       "      <td>0.529412</td>\n",
       "      <td>0.588235</td>\n",
       "      <td>0.529412</td>\n",
       "      <td>0.764706</td>\n",
       "      <td>0.647059</td>\n",
       "      <td>0.6250</td>\n",
       "      <td>0.6250</td>\n",
       "      <td>0.591176</td>\n",
       "      <td>0.137726</td>\n",
       "      <td>5</td>\n",
       "    </tr>\n",
       "  </tbody>\n",
       "</table>\n",
       "</div>"
      ],
      "text/plain": [
       "   mean_fit_time  std_fit_time  mean_score_time  std_score_time  \\\n",
       "0       0.008634      0.001071         0.004200        0.000601   \n",
       "1       0.014298      0.000780         0.004900        0.000537   \n",
       "2       0.051680      0.001981         0.005354        0.001100   \n",
       "3       0.179068      0.008168         0.006150        0.003674   \n",
       "4       0.647664      0.018712         0.005051        0.000474   \n",
       "\n",
       "  param_poly__degree               params  split0_test_score  \\\n",
       "0                  1  {'poly__degree': 1}             0.9375   \n",
       "1                  2  {'poly__degree': 2}             0.9375   \n",
       "2                  3  {'poly__degree': 3}             0.6875   \n",
       "3                  4  {'poly__degree': 4}             0.6875   \n",
       "4                  5  {'poly__degree': 5}             0.2500   \n",
       "\n",
       "   split1_test_score  split2_test_score  split3_test_score  split4_test_score  \\\n",
       "0           0.882353           0.823529           1.000000           0.882353   \n",
       "1           0.882353           0.882353           1.000000           0.941176   \n",
       "2           0.411765           0.470588           0.647059           0.588235   \n",
       "3           0.647059           0.705882           0.588235           0.588235   \n",
       "4           0.588235           0.764706           0.529412           0.588235   \n",
       "\n",
       "   split5_test_score  split6_test_score  split7_test_score  split8_test_score  \\\n",
       "0           0.941176           0.941176           0.941176             1.0000   \n",
       "1           0.941176           0.882353           0.941176             1.0000   \n",
       "2           0.705882           0.764706           0.529412             0.6875   \n",
       "3           0.529412           0.647059           0.764706             0.6875   \n",
       "4           0.529412           0.764706           0.647059             0.6250   \n",
       "\n",
       "   split9_test_score  mean_test_score  std_test_score  rank_test_score  \n",
       "0             0.8750         0.922426        0.053441                2  \n",
       "1             0.8750         0.928309        0.044764                1  \n",
       "2             0.5625         0.605515        0.106897                4  \n",
       "3             0.6250         0.647059        0.064668                3  \n",
       "4             0.6250         0.591176        0.137726                5  "
      ]
     },
     "execution_count": 22,
     "metadata": {},
     "output_type": "execute_result"
    }
   ],
   "source": [
    "pd.DataFrame(cv.cv_results_) \n"
   ]
  },
  {
   "cell_type": "markdown",
   "id": "f9798b94",
   "metadata": {},
   "source": [
    "## Quadratic Discriminant Analysis"
   ]
  },
  {
   "cell_type": "code",
   "execution_count": 23,
   "id": "eab85b2d",
   "metadata": {},
   "outputs": [
    {
     "name": "stdout",
     "output_type": "stream",
     "text": [
      "Train sensitivity: 0.9820359281437125\n",
      "Test sensitivity: 0.9583333333333334\n"
     ]
    }
   ],
   "source": [
    "model = QDA(store_covariance = True)\n",
    "model = model.fit(X_train, y_train)\n",
    "\n",
    "print(\"Train sensitivity:\", recall_score(y_train, model.predict(X_train)))\n",
    "print(\"Test sensitivity:\", recall_score(y_test, model.predict(X_test)))"
   ]
  },
  {
   "cell_type": "markdown",
   "id": "6608ace9",
   "metadata": {},
   "source": [
    "## K-Nearest Neighbors"
   ]
  },
  {
   "cell_type": "markdown",
   "id": "aaa06f3b",
   "metadata": {},
   "source": [
    "#### Using cross-validation method with 10 folds in a range of 40 k, the best value of k is 3"
   ]
  },
  {
   "cell_type": "code",
   "execution_count": 24,
   "id": "c9c3346a",
   "metadata": {},
   "outputs": [
    {
     "data": {
      "text/plain": [
       "GridSearchCV(cv=10, estimator=KNeighborsClassifier(),\n",
       "             param_grid={'n_neighbors': range(1, 40)},\n",
       "             scoring=make_scorer(recall_score))"
      ]
     },
     "execution_count": 24,
     "metadata": {},
     "output_type": "execute_result"
    }
   ],
   "source": [
    "model = KNeighborsClassifier()\n",
    "params = {'n_neighbors': range(1, 40)}\n",
    "folds=10\n",
    "scorer = make_scorer(recall_score)\n",
    "\n",
    "cv = GridSearchCV(model, params, refit=True, cv = folds, scoring = scorer)\n",
    "cv.fit(X_train, y_train)"
   ]
  },
  {
   "cell_type": "code",
   "execution_count": 25,
   "id": "594cb588",
   "metadata": {},
   "outputs": [
    {
     "name": "stdout",
     "output_type": "stream",
     "text": [
      "  (best 3) CV sensitivity: 0.9639705882352942\n",
      "  (best 3) Test sensitivity: 0.9444444444444444\n"
     ]
    },
    {
     "data": {
      "image/png": "[encoded data removed]",
      "text/plain": [
       "<Figure size 432x288 with 1 Axes>"
      ]
     },
     "metadata": {
      "needs_background": "light"
     },
     "output_type": "display_data"
    }
   ],
   "source": [
    "show_results(cv, X_test, \"param_n_neighbors\")"
   ]
  },
  {
   "cell_type": "markdown",
   "id": "405a8ac1",
   "metadata": {},
   "source": [
    "## Support Vector Machine"
   ]
  },
  {
   "cell_type": "markdown",
   "id": "6dec555a",
   "metadata": {},
   "source": [
    "#### This time I tried the SVM model with cross-validation and with three different kernel (poly, RBF, Sigmoid) to see which kernel is the best with which best value of regularization parameter C"
   ]
  },
  {
   "cell_type": "code",
   "execution_count": 26,
   "id": "241a8df0",
   "metadata": {},
   "outputs": [
    {
     "data": {
      "text/plain": [
       "GridSearchCV(cv=5, estimator=SVC(kernel='sigmoid'),\n",
       "             param_grid={'C': array([1.000000e-03, 2.500075e+01, 5.000050e+01, 7.500025e+01,\n",
       "       1.000000e+02]),\n",
       "                         'coef0': array([-10.,  -5.,   0.,   5.,  10.]),\n",
       "                         'gamma': array([1.000000e-03, 2.500075e+01, 5.000050e+01, 7.500025e+01,\n",
       "       1.000000e+02])},\n",
       "             scoring='recall')"
      ]
     },
     "execution_count": 26,
     "metadata": {},
     "output_type": "execute_result"
    }
   ],
   "source": [
    "# Polynomial\n",
    "param_grid = {'C': np.linspace(0.001, 100, 5),\n",
    "              'coef0': np.linspace(-10, 10, 5),\n",
    "              'degree': [1, 2, 3, 4]}\n",
    "svm_poly_rec = GridSearchCV(SVC(kernel='poly'), param_grid,\n",
    "                        cv=5, scoring='recall', refit=True)\n",
    "svm_poly_rec.fit(X_train, y_train)\n",
    "\n",
    "# RBF\n",
    "param_grid = {'C': np.linspace(0.001, 100, 5),\n",
    "              'gamma': np.linspace(0.001, 100, 5)}\n",
    "rbf_poly_rec = GridSearchCV(SVC(kernel='rbf'), param_grid, \n",
    "                        cv=5, scoring='recall', refit=True)\n",
    "rbf_poly_rec.fit(X_train, y_train)\n",
    "\n",
    "# Sigmoid\n",
    "param_grid = {'C': np.linspace(0.001, 100, 5),\n",
    "              'gamma': np.linspace(0.001, 100, 5),\n",
    "              'coef0': np.linspace(-10, 10, 5)}\n",
    "sigm_poly_rec = GridSearchCV(SVC(kernel='sigmoid'), param_grid, \n",
    "                         cv=5, scoring='recall', refit=True)\n",
    "sigm_poly_rec.fit(X_train, y_train)"
   ]
  },
  {
   "cell_type": "code",
   "execution_count": 27,
   "id": "4ffb2cdf",
   "metadata": {},
   "outputs": [
    {
     "name": "stdout",
     "output_type": "stream",
     "text": [
      "SVC(C=100.0, coef0=-10.0, degree=1, kernel='poly')\n",
      "cv score: 0.9641711229946524\n",
      "train score: 0.9700598802395209\n",
      "test score: 0.9583333333333334\n",
      "\n",
      "SVC(C=25.00075, gamma=0.001)\n",
      "cv score: 0.9581105169340465\n",
      "train score: 0.9700598802395209\n",
      "test score: 0.9583333333333334\n",
      "\n",
      "SVC(C=25.00075, gamma=0.001, kernel='sigmoid')\n",
      "cv score: 0.9581105169340465\n",
      "train score: 0.9640718562874252\n",
      "test score: 0.9583333333333334\n",
      "\n"
     ]
    }
   ],
   "source": [
    "for m in [svm_poly_rec, rbf_poly_rec, sigm_poly_rec]:\n",
    "    cv_score = m.best_score_\n",
    "    m = m.best_estimator_\n",
    "    print(m)\n",
    "    train_sensitivity = recall_score(y_train, m.predict(X_train))\n",
    "    test_sensitivity = recall_score(y_test, m.predict(X_test))\n",
    "    print(\"cv score: {}\".format(cv_score))\n",
    "    print(\"train score: {}\".format(train_sensitivity))\n",
    "    print(\"test score: {}\\n\".format(test_sensitivity))"
   ]
  },
  {
   "cell_type": "markdown",
   "id": "15674809",
   "metadata": {},
   "source": [
    "#### After seeing the results where all kernels had the same scores using recall as scorer, I decided to try the accuracy scorer to see which kernel was the best"
   ]
  },
  {
   "cell_type": "code",
   "execution_count": 28,
   "id": "be912047",
   "metadata": {},
   "outputs": [
    {
     "data": {
      "text/plain": [
       "GridSearchCV(cv=5, estimator=SVC(kernel='sigmoid'),\n",
       "             param_grid={'C': array([1.000000e-03, 2.500075e+01, 5.000050e+01, 7.500025e+01,\n",
       "       1.000000e+02]),\n",
       "                         'coef0': array([-10.,  -5.,   0.,   5.,  10.]),\n",
       "                         'gamma': array([1.000000e-03, 2.500075e+01, 5.000050e+01, 7.500025e+01,\n",
       "       1.000000e+02])},\n",
       "             scoring='accuracy')"
      ]
     },
     "execution_count": 28,
     "metadata": {},
     "output_type": "execute_result"
    }
   ],
   "source": [
    "# Polynomial\n",
    "param_grid = {'C': np.linspace(0.001, 100, 5),\n",
    "              'coef0': np.linspace(-10, 10, 5),\n",
    "              'degree': [1, 2, 3, 4]}\n",
    "svm_poly_acc = GridSearchCV(SVC(kernel='poly'), param_grid,\n",
    "                        cv=5, scoring='accuracy', refit=True)\n",
    "svm_poly_acc.fit(X_train, y_train)\n",
    "\n",
    "# RBF\n",
    "param_grid = {'C': np.linspace(0.001, 100, 5),\n",
    "              'gamma': np.linspace(0.001, 100, 5)}\n",
    "rbf_poly_acc = GridSearchCV(SVC(kernel='rbf'), param_grid, \n",
    "                        cv=5, scoring='accuracy', refit=True)\n",
    "rbf_poly_acc.fit(X_train, y_train)\n",
    "\n",
    "# Sigmoid\n",
    "param_grid = {'C': np.linspace(0.001, 100, 5),\n",
    "              'gamma': np.linspace(0.001, 100, 5),\n",
    "              'coef0': np.linspace(-10, 10, 5)}\n",
    "sigm_poly_acc = GridSearchCV(SVC(kernel='sigmoid'), param_grid, \n",
    "                         cv=5, scoring='accuracy', refit=True)\n",
    "sigm_poly_acc.fit(X_train, y_train)"
   ]
  },
  {
   "cell_type": "code",
   "execution_count": 29,
   "id": "a966cdd8",
   "metadata": {},
   "outputs": [
    {
     "name": "stdout",
     "output_type": "stream",
     "text": [
      "SVC(C=0.001, coef0=5.0, degree=4, kernel='poly')\n",
      "cv score: 0.9728070175438596\n",
      "train score: 0.9790794979079498\n",
      "test score: 0.9560975609756097\n",
      "\n",
      "SVC(C=25.00075, gamma=0.001)\n",
      "cv score: 0.9728070175438596\n",
      "train score: 0.9811715481171548\n",
      "test score: 0.9609756097560975\n",
      "\n",
      "SVC(C=25.00075, gamma=0.001, kernel='sigmoid')\n",
      "cv score: 0.9728070175438596\n",
      "train score: 0.9769874476987448\n",
      "test score: 0.9609756097560975\n",
      "\n"
     ]
    }
   ],
   "source": [
    "for m in [svm_poly_acc, rbf_poly_acc, sigm_poly_acc]:\n",
    "    cv_score = m.best_score_\n",
    "    m = m.best_estimator_\n",
    "    print(m)\n",
    "    train_acc = accuracy(y_train, m.predict(X_train))\n",
    "    test_acc = accuracy(y_test, m.predict(X_test))\n",
    "    print(\"cv score: {}\".format(cv_score))\n",
    "    print(\"train score: {}\".format(train_acc))\n",
    "    print(\"test score: {}\\n\".format(test_acc))"
   ]
  },
  {
   "cell_type": "markdown",
   "id": "9ca07ce0",
   "metadata": {},
   "source": [
    "#### In the end I choosed Sigmoid kernel as the best for the higest accuracy score"
   ]
  },
  {
   "cell_type": "markdown",
   "id": "9323875f",
   "metadata": {},
   "source": [
    "## Best Model"
   ]
  },
  {
   "cell_type": "markdown",
   "id": "84c2a868",
   "metadata": {},
   "source": [
    "#### Keeping only sigmoid as best kernel for SVM, I compared it and the other four models to decide which was the best using recall and accuracy as scorers"
   ]
  },
  {
   "cell_type": "code",
   "execution_count": 30,
   "id": "a947e599",
   "metadata": {},
   "outputs": [
    {
     "name": "stdout",
     "output_type": "stream",
     "text": [
      "lda CV score sensitivity: 0.9283,  test score sensitivity: 0.9306\n",
      "log CV score sensitivity: 0.9460,  test score sensitivity: 0.9444\n",
      "qda CV score sensitivity: 0.9816,  test score sensitivity: 0.9583\n",
      "knn CV score sensitivity: 0.9640,  test score sensitivity: 0.9444\n",
      "svm_sigm CV score sensitivity: 0.9577,  test score sensitivity: 0.9583\n",
      "lda CV score accuracy: 0.9645,  test score accuracy: 0.9512\n",
      "log CV score accuracy: 0.9665,  test score accuracy: 0.9561\n",
      "qda CV score accuracy: 0.9478,  test score accuracy: 0.9561\n",
      "knn CV score accuracy: 0.9812,  test score accuracy: 0.9561\n",
      "svm_sigm CV score accuracy: 0.9749,  test score accuracy: 0.9610\n"
     ]
    },
    {
     "data": {
      "text/plain": [
       "<matplotlib.legend.Legend at 0x21084b50670>"
      ]
     },
     "execution_count": 30,
     "metadata": {},
     "output_type": "execute_result"
    },
    {
     "data": {
      "image/png": "[encoded data removed]",
      "text/plain": [
       "<Figure size 432x288 with 1 Axes>"
      ]
     },
     "metadata": {
      "needs_background": "light"
     },
     "output_type": "display_data"
    }
   ],
   "source": [
    "log = LogisticRegression(solver='newton-cg', penalty='none')\n",
    "lda = Pipeline([('poly', PolynomialFeatures(degree=2)), ('lda', LDA(store_covariance=True))])\n",
    "qda = QDA(store_covariance = True) \n",
    "knn = KNeighborsClassifier(n_neighbors=3)\n",
    "svm_sigm = SVC(kernel='sigmoid', gamma = 0.001, C=25, probability= True)\n",
    "\n",
    "\n",
    "from collections import OrderedDict\n",
    "models = OrderedDict([('lda', lda), ('log', log), ('qda', qda), ('knn', knn), ('svm_sigm', svm_sigm)])\n",
    "\n",
    "cv_scores_rec, test_scores_rec = [], []\n",
    "for name, model in models.items():\n",
    "    scores_rec = cross_val_score(model, X_train, y_train, cv=10, scoring = make_scorer(recall_score))\n",
    "    cv_score_rec = np.mean(scores_rec)\n",
    "    cv_scores_rec.append(cv_score_rec)\n",
    "    \n",
    "    model.fit(X_train, y_train) \n",
    "    test_score_rec = recall_score(y_test, model.predict(X_test))\n",
    "    test_scores_rec.append(test_score_rec)\n",
    "    print(\"{} CV score sensitivity: {:.4f},  test score sensitivity: {:.4f}\".format(name, cv_score_rec, test_score_rec))\n",
    "\n",
    "cv_scores_acc, test_scores_acc = [], []\n",
    "for name, model in models.items():\n",
    "    scores_acc = cross_val_score(model, X_train, y_train, cv=10, scoring = make_scorer(accuracy))\n",
    "    cv_score_acc = np.mean(scores_acc)\n",
    "    cv_scores_acc.append(cv_score_acc)\n",
    "    \n",
    "    model.fit(X_train, y_train) \n",
    "    test_score_acc = accuracy(y_test, model.predict(X_test))\n",
    "    test_scores_acc.append(test_score_acc)\n",
    "    print(\"{} CV score accuracy: {:.4f},  test score accuracy: {:.4f}\".format(name, cv_score_acc, test_score_acc))\n",
    "    \n",
    "    \n",
    "data = pd.DataFrame()\n",
    "data['model'] = list(models.keys()) * 4\n",
    "data['metric'] = ['10-cv sensitivity'] * len(cv_scores_rec) + ['test sensitivity'] * len(test_scores_rec) + ['10-cv accuracy'] * len(cv_scores_acc) + ['test accuracy'] * len(test_scores_acc)\n",
    "data['score'] = cv_scores_rec + test_scores_rec + cv_scores_acc + test_scores_acc\n",
    "\n",
    "sns.barplot(x='model', y='score', data=data, hue='metric')\n",
    "plt.legend(loc='lower right')\n",
    "\n"
   ]
  },
  {
   "cell_type": "markdown",
   "id": "9fce3688",
   "metadata": {},
   "source": [
    "#### The best models according to the recall are both the SVM with Sigmoid and QDA, but according to both the recall and accuracy the SVM Sigmoid is the best"
   ]
  },
  {
   "cell_type": "code",
   "execution_count": 31,
   "id": "03eef050",
   "metadata": {},
   "outputs": [
    {
     "data": {
      "image/png": "[encoded data removed]",
      "text/plain": [
       "<Figure size 432x288 with 1 Axes>"
      ]
     },
     "metadata": {
      "needs_background": "light"
     },
     "output_type": "display_data"
    }
   ],
   "source": [
    "from sklearn.metrics import roc_curve\n",
    "\n",
    "def plot_roc(predict_fn, X, y, label=None):\n",
    "    fprs, tprs, t = roc_curve(y, predict_fn(X)[:,-1])\n",
    "    \n",
    "    # Plot the ROC\n",
    "    plt.plot(fprs, tprs, label=\"ROC \"+label)\n",
    "    plt.xlabel(\"FPR = 1 - specificity\")\n",
    "    plt.ylabel(\"TPR = sensitivity\")\n",
    "    plt.legend()\n",
    "\n",
    "for name, model in [('lda', lda), ('log', log), ('qda', qda), ('knn', knn), ('svm_sigm', svm_sigm)]:\n",
    "    model.fit(X_train, y_train)\n",
    "    plot_roc(model.predict_proba, X_test, y_test, name)"
   ]
  },
  {
   "cell_type": "markdown",
   "id": "1731f0d1",
   "metadata": {},
   "source": [
    "#### I conclude with the plot of the ROC curve which in this case isn't much informative to compare the models but can easily show that more or less all models used for this task perform well on this data"
   ]
  }
 ],
 "metadata": {
  "kernelspec": {
   "display_name": "Python 3 (ipykernel)",
   "language": "python",
   "name": "python3"
  },
  "language_info": {
   "codemirror_mode": {
    "name": "ipython",
    "version": 3
   },
   "file_extension": ".py",
   "mimetype": "text/x-python",
   "name": "python",
   "nbconvert_exporter": "python",
   "pygments_lexer": "ipython3",
   "version": "3.8.13"
  }
 },
 "nbformat": 4,
 "nbformat_minor": 5
}
